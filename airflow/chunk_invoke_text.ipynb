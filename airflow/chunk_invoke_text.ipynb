{
 "cells": [
  {
   "cell_type": "code",
   "execution_count": 1,
   "metadata": {},
   "outputs": [],
   "source": [
    "from dotenv import load_dotenv"
   ]
  },
  {
   "cell_type": "code",
   "execution_count": 2,
   "metadata": {},
   "outputs": [
    {
     "data": {
      "text/plain": [
       "True"
      ]
     },
     "execution_count": 2,
     "metadata": {},
     "output_type": "execute_result"
    }
   ],
   "source": [
    "load_dotenv()"
   ]
  },
  {
   "cell_type": "code",
   "execution_count": 3,
   "metadata": {},
   "outputs": [
    {
     "name": "stdout",
     "output_type": "stream",
     "text": [
      "LangSmith 추적을 시작합니다.\n",
      "[프로젝트명]\n",
      "lunch-lens\n"
     ]
    }
   ],
   "source": [
    "from langchain_teddynote import logging\n",
    "logging.langsmith(\"lunch-lens\", \"0.1.0\")"
   ]
  },
  {
   "cell_type": "code",
   "execution_count": 6,
   "metadata": {},
   "outputs": [],
   "source": [
    "from langchain_openai import ChatOpenAI\n",
    "from langchain_core.prompts import PromptTemplate\n",
    "from langchain_core.output_parsers import PydanticOutputParser\n",
    "from "
   ]
  },
  {
   "cell_type": "code",
   "execution_count": 7,
   "metadata": {},
   "outputs": [],
   "source": [
    "llm = ChatOpenAI(temperature=0.0)"
   ]
  },
  {
   "cell_type": "code",
   "execution_count": 69,
   "metadata": {},
   "outputs": [],
   "source": [
    "from pydantic import BaseModel, Field\n",
    "\n",
    "class FoodInfo(BaseModel):\n",
    "    name: str = Field(description=\"The main dish name\")\n",
    "    category: str = Field(description=\"The category of the main dish\")\n",
    "\n",
    "class FoodInfoList(BaseModel):\n",
    "    food_list: list[dict[str, str]] = Field(description=\"The list of main dish names and their categories\")"
   ]
  },
  {
   "cell_type": "code",
   "execution_count": 70,
   "metadata": {},
   "outputs": [],
   "source": [
    "parser = PydanticOutputParser(pydantic_object=FoodInfoList)"
   ]
  },
  {
   "cell_type": "code",
   "execution_count": 113,
   "metadata": {},
   "outputs": [],
   "source": [
    "from langchain_core.prompts import load_prompt\n",
    "\n",
    "prompt = load_prompt(\"./dags/prompts/categorize_food.yaml\").partial(format_instructions=parser.get_format_instructions())"
   ]
  },
  {
   "cell_type": "code",
   "execution_count": 122,
   "metadata": {},
   "outputs": [],
   "source": [
    "name_list = [\n",
    "    \"김치찌개\", \"된장찌개\", \"파스타\", \"스테이크\", \"가츠동\", \"돈까스\", \"떡볶이\", \"스테이크\", \n",
    "    \"오이무침\", \"김치볶음밥\", \"잡채\", \"갈비찜\", \"삼겹살\", \"초밥\", \"라멘\", \"짜장면\", \n",
    "    \"짬뽕\", \"탕수육\", \"마파두부\", \"육회\", \"샤브샤브\", \"해물파전\", \"비빔밥\", \"콩나물국\", \n",
    "    \"불고기\", \"생선구이\", \"회덮밥\", \"물냉면\", \"비빔냉면\", \"칼국수\", \"순두부찌개\", \n",
    "    \"청국장\", \"깐풍기\", \"닭갈비\", \"치킨\", \"감자탕\", \"삼계탕\", \"떡국\", \"라볶이\", \n",
    "    \"호떡\", \"닭강정\", \"부대찌개\", \"닭볶음탕\", \"육개장\", \"아구찜\", \"매운탕\", \"감자전\", \n",
    "    \"호박전\", \"김밥\", \"참치마요덮밥\", \"제육볶음\", \"차돌박이\", \"돼지갈비\", \"족발\", \n",
    "    \"보쌈\", \"막국수\", \"우동\", \"가라아게\", \"오므라이스\", \"햄버거\", \"치즈피자\", \n",
    "    \"페퍼로니피자\", \"핫도그\", \"케밥\", \"도넛\", \"타코\", \"초콜릿케이크\", \"치즈케이크\", \n",
    "    \"푸딩\", \"카레라이스\", \"야키소바\", \"오코노미야키\", \"돈부리\", \"차슈라멘\", \"훈제오리\", \n",
    "    \"규동\", \"치킨커리\", \"감바스\", \"크림파스타\", \"리조또\", \"토스트\", \"바게트\", \n",
    "    \"딤섬\", \"중화비빔밥\", \"오징어볶음\", \"코다리찜\", \"꼬막비빔밥\", \"황태구이\", \n",
    "    \"양념게장\", \"간장게장\", \"쭈꾸미볶음\", \"고추장불고기\", \"깻잎김치\", \"달걀말이\", \n",
    "    \"샌드위치\", \"브라우니\", \"푸아그라\", \"뇨끼\", \"라자냐\", \"coke\"\n",
    "]"
   ]
  },
  {
   "cell_type": "code",
   "execution_count": 123,
   "metadata": {},
   "outputs": [
    {
     "name": "stdout",
     "output_type": "stream",
     "text": [
      "Given the 100 number of recipe titles, for each title,please:\n",
      "1. Remove any unnecessary descriptive words and return just the main dish name\n",
      "2. Classify the dish into one of these categories: 한식, 양식, 중식, 일식, 기타\n",
      "3. Return the main dish name and its category\n",
      "4. Aggregate all the main dish names and their categories into a list\n",
      "5. If there are duplicates in the list, only return the first one\n",
      "\n",
      "Example:\n",
      "Input: [\"김치찌개\", \"된장찌개\", \"파스타\", \"스테이크\", \"가츠동\", \"돈까스\", \"백종원의 초간단 매콤 닭볶음탕\", \"김치 갈비찜\"]\n",
      "then should return: {\"food_list\": [{\"name\": \"김치찌개\", \"category\": \"한식\"}, {\"name\": \"된장찌개\", \"category\": \"한식\"}, {\"name\": \"파스타\", \"category\": \"한식\"}, {\"name\": \"스테이크\", \"category\": \"한식\"}, {\"name\": \"가츠동\", \"category\": \"한식\"}, {\"name\": \"돈까스\", \"category\": \"한식\"}, {\"name\": \"백종원의 초간단 매콤 닭볶음탕\", \"category\": \"한식\"}, {\"name\": \"김치 갈비찜\", \"category\": \"한식\"}]}\n",
      "\n",
      "Format:\n",
      "The output should be formatted as a JSON instance that conforms to the JSON schema below.\n",
      "\n",
      "As an example, for the schema {\"properties\": {\"foo\": {\"title\": \"Foo\", \"description\": \"a list of strings\", \"type\": \"array\", \"items\": {\"type\": \"string\"}}}, \"required\": [\"foo\"]}\n",
      "the object {\"foo\": [\"bar\", \"baz\"]} is a well-formatted instance of the schema. The object {\"properties\": {\"foo\": [\"bar\", \"baz\"]}} is not well-formatted.\n",
      "\n",
      "Here is the output schema:\n",
      "```\n",
      "{\"properties\": {\"food_list\": {\"description\": \"The list of main dish names and their categories\", \"items\": {\"additionalProperties\": {\"type\": \"string\"}, \"type\": \"object\"}, \"title\": \"Food List\", \"type\": \"array\"}}, \"required\": [\"food_list\"]}\n",
      "```\n",
      "\n",
      "Input: ['김치찌개', '된장찌개', '파스타', '스테이크', '가츠동', '돈까스', '떡볶이', '스테이크', '오이무침', '김치볶음밥', '잡채', '갈비찜', '삼겹살', '초밥', '라멘', '짜장면', '짬뽕', '탕수육', '마파두부', '육회', '샤브샤브', '해물파전', '비빔밥', '콩나물국', '불고기', '생선구이', '회덮밥', '물냉면', '비빔냉면', '칼국수', '순두부찌개', '청국장', '깐풍기', '닭갈비', '치킨', '감자탕', '삼계탕', '떡국', '라볶이', '호떡', '닭강정', '부대찌개', '닭볶음탕', '육개장', '아구찜', '매운탕', '감자전', '호박전', '김밥', '참치마요덮밥', '제육볶음', '차돌박이', '돼지갈비', '족발', '보쌈', '막국수', '우동', '가라아게', '오므라이스', '햄버거', '치즈피자', '페퍼로니피자', '핫도그', '케밥', '도넛', '타코', '초콜릿케이크', '치즈케이크', '푸딩', '카레라이스', '야키소바', '오코노미야키', '돈부리', '차슈라멘', '훈제오리', '규동', '치킨커리', '감바스', '크림파스타', '리조또', '토스트', '바게트', '딤섬', '중화비빔밥', '오징어볶음', '코다리찜', '꼬막비빔밥', '황태구이', '양념게장', '간장게장', '쭈꾸미볶음', '고추장불고기', '깻잎김치', '달걀말이', '샌드위치', '브라우니', '푸아그라', '뇨끼', '라자냐', 'coke']\n"
     ]
    }
   ],
   "source": [
    "print(prompt.format(name_list=name_list, count=len(name_list)))"
   ]
  },
  {
   "cell_type": "code",
   "execution_count": 124,
   "metadata": {},
   "outputs": [],
   "source": [
    "chain = (prompt | llm | parser)"
   ]
  },
  {
   "cell_type": "code",
   "execution_count": 133,
   "metadata": {},
   "outputs": [],
   "source": [
    "response = chain.invoke({\"name_list\":name_list[:50], \"count\": len(name_list[:50])})"
   ]
  },
  {
   "cell_type": "code",
   "execution_count": 126,
   "metadata": {},
   "outputs": [
    {
     "data": {
      "text/plain": [
       "100"
      ]
     },
     "execution_count": 126,
     "metadata": {},
     "output_type": "execute_result"
    }
   ],
   "source": [
    "len(name_list)"
   ]
  },
  {
   "cell_type": "code",
   "execution_count": 127,
   "metadata": {},
   "outputs": [
    {
     "data": {
      "text/plain": [
       "98"
      ]
     },
     "execution_count": 127,
     "metadata": {},
     "output_type": "execute_result"
    }
   ],
   "source": [
    "len(response.food_list)"
   ]
  },
  {
   "cell_type": "code",
   "execution_count": 134,
   "metadata": {},
   "outputs": [],
   "source": [
    "response_names = [food['name'] for food in response.food_list]"
   ]
  },
  {
   "cell_type": "code",
   "execution_count": 135,
   "metadata": {},
   "outputs": [
    {
     "data": {
      "text/plain": [
       "set()"
      ]
     },
     "execution_count": 135,
     "metadata": {},
     "output_type": "execute_result"
    }
   ],
   "source": [
    "set(name_list[:50]) - set(response_names)"
   ]
  },
  {
   "cell_type": "code",
   "execution_count": 136,
   "metadata": {},
   "outputs": [
    {
     "data": {
      "text/plain": [
       "[{'name': '김치찌개', 'category': '한식'},\n",
       " {'name': '된장찌개', 'category': '한식'},\n",
       " {'name': '파스타', 'category': '양식'},\n",
       " {'name': '스테이크', 'category': '양식'},\n",
       " {'name': '가츠동', 'category': '일식'},\n",
       " {'name': '돈까스', 'category': '일식'},\n",
       " {'name': '떡볶이', 'category': '한식'},\n",
       " {'name': '오이무침', 'category': '한식'},\n",
       " {'name': '김치볶음밥', 'category': '한식'},\n",
       " {'name': '잡채', 'category': '한식'},\n",
       " {'name': '갈비찜', 'category': '한식'},\n",
       " {'name': '삼겹살', 'category': '한식'},\n",
       " {'name': '초밥', 'category': '일식'},\n",
       " {'name': '라멘', 'category': '일식'},\n",
       " {'name': '짜장면', 'category': '중식'},\n",
       " {'name': '짬뽕', 'category': '중식'},\n",
       " {'name': '탕수육', 'category': '중식'},\n",
       " {'name': '마파두부', 'category': '중식'},\n",
       " {'name': '육회', 'category': '한식'},\n",
       " {'name': '샤브샤브', 'category': '한식'},\n",
       " {'name': '해물파전', 'category': '한식'},\n",
       " {'name': '비빔밥', 'category': '한식'},\n",
       " {'name': '콩나물국', 'category': '한식'},\n",
       " {'name': '불고기', 'category': '한식'},\n",
       " {'name': '생선구이', 'category': '한식'},\n",
       " {'name': '회덮밥', 'category': '한식'},\n",
       " {'name': '물냉면', 'category': '한식'},\n",
       " {'name': '비빔냉면', 'category': '한식'},\n",
       " {'name': '칼국수', 'category': '한식'},\n",
       " {'name': '순두부찌개', 'category': '한식'},\n",
       " {'name': '청국장', 'category': '한식'},\n",
       " {'name': '깐풍기', 'category': '한식'},\n",
       " {'name': '닭갈비', 'category': '한식'},\n",
       " {'name': '치킨', 'category': '한식'},\n",
       " {'name': '감자탕', 'category': '한식'},\n",
       " {'name': '삼계탕', 'category': '한식'},\n",
       " {'name': '떡국', 'category': '한식'},\n",
       " {'name': '라볶이', 'category': '한식'},\n",
       " {'name': '호떡', 'category': '한식'},\n",
       " {'name': '닭강정', 'category': '한식'},\n",
       " {'name': '부대찌개', 'category': '한식'},\n",
       " {'name': '닭볶음탕', 'category': '한식'},\n",
       " {'name': '육개장', 'category': '한식'},\n",
       " {'name': '아구찜', 'category': '한식'},\n",
       " {'name': '매운탕', 'category': '한식'},\n",
       " {'name': '감자전', 'category': '한식'},\n",
       " {'name': '호박전', 'category': '한식'},\n",
       " {'name': '김밥', 'category': '한식'},\n",
       " {'name': '참치마요덮밥', 'category': '한식'}]"
      ]
     },
     "execution_count": 136,
     "metadata": {},
     "output_type": "execute_result"
    }
   ],
   "source": [
    "response.food_list"
   ]
  }
 ],
 "metadata": {
  "kernelspec": {
   "display_name": ".venv",
   "language": "python",
   "name": "python3"
  },
  "language_info": {
   "codemirror_mode": {
    "name": "ipython",
    "version": 3
   },
   "file_extension": ".py",
   "mimetype": "text/x-python",
   "name": "python",
   "nbconvert_exporter": "python",
   "pygments_lexer": "ipython3",
   "version": "3.11.5"
  }
 },
 "nbformat": 4,
 "nbformat_minor": 2
}
